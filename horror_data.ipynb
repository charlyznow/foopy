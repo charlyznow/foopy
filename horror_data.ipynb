{
 "cells": [
  {
   "cell_type": "code",
   "execution_count": 101,
   "metadata": {},
   "outputs": [],
   "source": [
    "import pyspark\n",
    "from pyspark.sql import SparkSession\n",
    "from pyspark.sql.types import StructType, StringType, IntegerType , DoubleType\n",
    "from pyspark.sql.functions import ceil , col, split\n",
    "from pyspark.sql import functions as F\n",
    "import pandas as  pd\n",
    "\n"
   ]
  },
  {
   "cell_type": "code",
   "execution_count": 11,
   "metadata": {},
   "outputs": [],
   "source": [
    "import matplotlib.pyplot as plt"
   ]
  },
  {
   "cell_type": "code",
   "execution_count": 3,
   "metadata": {},
   "outputs": [
    {
     "name": "stderr",
     "output_type": "stream",
     "text": [
      "Setting default log level to \"WARN\".\n",
      "To adjust logging level use sc.setLogLevel(newLevel). For SparkR, use setLogLevel(newLevel).\n",
      "23/12/26 12:07:45 WARN NativeCodeLoader: Unable to load native-hadoop library for your platform... using builtin-java classes where applicable\n"
     ]
    }
   ],
   "source": [
    "spark = (SparkSession.builder\n",
    "  .master(\"local\")\n",
    "  .appName(\"horror_dataset\")\n",
    "  .getOrCreate())"
   ]
  },
  {
   "cell_type": "code",
   "execution_count": 33,
   "metadata": {},
   "outputs": [
    {
     "data": {
      "text/plain": [
       "pyspark.sql.dataframe.DataFrame"
      ]
     },
     "execution_count": 33,
     "metadata": {},
     "output_type": "execute_result"
    }
   ],
   "source": [
    "path = 'raw_data/IMDB Horror movies.csv'\n",
    "df = spark.read.csv(path, header=True, inferSchema= True)\n",
    "type(df) "
   ]
  },
  {
   "cell_type": "code",
   "execution_count": 34,
   "metadata": {},
   "outputs": [
    {
     "name": "stdout",
     "output_type": "stream",
     "text": [
      "+--------------------+--------------------+------------+---------------+------------+-------------+--------------+--------------------+--------------------+---------+--------------------+-----------------+\n",
      "|               Title|              Genres|Release Date|Release Country|Movie Rating|Review Rating|Movie Run Time|                Plot|                Cast| Language|   Filming Locations|           Budget|\n",
      "+--------------------+--------------------+------------+---------------+------------+-------------+--------------+--------------------+--------------------+---------+--------------------+-----------------+\n",
      "|          Gut (2012)| Drama| Horror| T...|   26-Oct-12|            USA|        null|          3.9|        91 min|Directed by Elias...|Jason Vail|Nichol...|  English|       New York, USA|             null|\n",
      "|The Haunting of M...|              Horror|   13-Jan-17|            USA|        null|         null|          null|Directed by Jake ...|Nicola Fiore|Brin...|  English|                null|         $30,000 |\n",
      "| Sleepwalking (2017)|              Horror|   21-Oct-17|         Canada|        null|         null|          null|Directed by David...|Alysia Topol|Anth...|  English|Sudbury, Ontario,...|             null|\n",
      "|Treasure Chest of...| Comedy| Horror| ...|   23-Apr-13|            USA|   NOT RATED|          3.7|        82 min|Directed by M. Ke...|Veronica Ricci|Ni...|  English|Baltimore, Maryla...|             null|\n",
      "|      Infidus (2015)| Crime| Drama| Ho...|   10-Apr-15|            USA|        null|          5.8|        80 min|Directed by Giuli...|Bonini Mino|Massi...|  Italian|                null|             null|\n",
      "|  In Extremis (2017)|    Horror| Thriller|        2017|             UK|        null|         null|        93 min|Directed by Steve...|David O'Hara|Isab...|  English|                null|      $3,400,000 |\n",
      "|   Ghostlight (2013)| Drama| Horror| T...|    3-Jun-14|            USA|   NOT RATED|          5.1|        90 min|Directed by Jeff ...|Eden Campbell|Lis...|  English|                null|             null|\n",
      "|Parasyte: Part 2 ...| Action| Drama| H...|   25-Apr-15|          Japan|        null|          6.5|       117 min|Directed by Takas...|Shôta Sometani|Er...| Japanese|        Tokyo, Japan|             null|\n",
      "|Stranger in the H...| Horror| Mystery|...|   28-May-17|          Spain|       PG-13|          4.6|        90 min|Directed by Devon...|Annabella Sciorra...|  English|Warwick, New York...|             null|\n",
      "|Tutak Tutak Tutiy...|      Comedy| Horror|    7-Oct-16|          India|        null|          5.4|       138 min|Directed by Vijay...|Tamannaah Bhatia|...|    Hindi|                null|             null|\n",
      "|The Strange House...|              Horror|   24-Jul-15|          China|        null|          5.3|        87 min|Directed by Danny...|Siu-Fai Cheung|Yi...| Mandarin|                null|             null|\n",
      "|Rise of the Anima...| Adventure| Comed...|    1-May-12|            USA|   NOT RATED|          3.6|        70 min|Directed by Chris...|Greg Hoople|Steph...|  English|Rochester, New Yo...|          $7,000 |\n",
      "|When Death Calls ...|              Horror|   28-Apr-12|            USA|        null|          5.9|        91 min|Directed by Jim H...|Suzi Lorraine|Tin...|  English|                null|             null|\n",
      "|Dark Medicine (2013)|      Horror| Sci-Fi|        2013|            USA|   NOT RATED|          2.8|        72 min|Directed by Tariq...|Ola Akinroluyo|By...|  English|Atlanta, Georgia,...|             null|\n",
      "|   Sexy Durga (2017)| Drama| Fantasy| ...|   21-Mar-17|            USA|        null|          5.9|        85 min|\"Directed by Sana...|Rajshri Deshpande...|Malayalam|Thiruvananthapura...|  INR 6,000,000  |\n",
      "|Circus of the Dea...| Action| Horror| ...|   13-Jan-17|            USA|        null|          6.0|       102 min|Directed by Billy...|Bill Oberst Jr.|P...|  English|  Odessa, Texas, USA|        $150,000 |\n",
      "|Zombie Resurrecti...|              Horror|   23-Mar-15|             UK|   NOT RATED|          2.7|        86 min|Directed by Jake ...|Eric Colvin|Jim S...|  English|Hampshire, Englan...|       £100,000  |\n",
      "|      Falling (2016)| Drama| Horror| R...|    8-Apr-16|            USA|        null|          7.1|       105 min|Directed by Ali A...|Josh Helman|Yael ...|  English|Utica, New York, USA|             null|\n",
      "| Bad Behavior (2015)|              Horror|   27-Oct-15|            USA|        null|         null|        64 min|Directed by Curti...|John Langston|Ame...|  English|Pelahatchie, Miss...|          $1,023 |\n",
      "|Devil's Tower (2014)|              Horror|   16-Sep-14|             UK|        null|          3.4|        82 min|Directed by Owen ...|Jason Mewes|Roxan...|  English|Derbyshire, Engla...|      $3,000,000 |\n",
      "+--------------------+--------------------+------------+---------------+------------+-------------+--------------+--------------------+--------------------+---------+--------------------+-----------------+\n",
      "only showing top 20 rows\n",
      "\n"
     ]
    }
   ],
   "source": [
    "df.show(20)"
   ]
  },
  {
   "cell_type": "code",
   "execution_count": 35,
   "metadata": {},
   "outputs": [
    {
     "name": "stdout",
     "output_type": "stream",
     "text": [
      "+--------------------+--------------------+------------+---------------+------------+-------------+--------+--------------------+--------------------+---------+--------------------+-----------------+\n",
      "|               Title|              Genres|Release_Date|Release_Country|Movie_Rating|Review_Rating|Run_Time|                Plot|                Cast| Language|   Filming_Locations|           Budget|\n",
      "+--------------------+--------------------+------------+---------------+------------+-------------+--------+--------------------+--------------------+---------+--------------------+-----------------+\n",
      "|          Gut (2012)| Drama| Horror| T...|   26-Oct-12|            USA|        null|          3.9|  91 min|Directed by Elias...|Jason Vail|Nichol...|  English|       New York, USA|             null|\n",
      "|The Haunting of M...|              Horror|   13-Jan-17|            USA|        null|         null|    null|Directed by Jake ...|Nicola Fiore|Brin...|  English|                null|         $30,000 |\n",
      "| Sleepwalking (2017)|              Horror|   21-Oct-17|         Canada|        null|         null|    null|Directed by David...|Alysia Topol|Anth...|  English|Sudbury, Ontario,...|             null|\n",
      "|Treasure Chest of...| Comedy| Horror| ...|   23-Apr-13|            USA|   NOT RATED|          3.7|  82 min|Directed by M. Ke...|Veronica Ricci|Ni...|  English|Baltimore, Maryla...|             null|\n",
      "|      Infidus (2015)| Crime| Drama| Ho...|   10-Apr-15|            USA|        null|          5.8|  80 min|Directed by Giuli...|Bonini Mino|Massi...|  Italian|                null|             null|\n",
      "|  In Extremis (2017)|    Horror| Thriller|        2017|             UK|        null|         null|  93 min|Directed by Steve...|David O'Hara|Isab...|  English|                null|      $3,400,000 |\n",
      "|   Ghostlight (2013)| Drama| Horror| T...|    3-Jun-14|            USA|   NOT RATED|          5.1|  90 min|Directed by Jeff ...|Eden Campbell|Lis...|  English|                null|             null|\n",
      "|Parasyte: Part 2 ...| Action| Drama| H...|   25-Apr-15|          Japan|        null|          6.5| 117 min|Directed by Takas...|Shôta Sometani|Er...| Japanese|        Tokyo, Japan|             null|\n",
      "|Stranger in the H...| Horror| Mystery|...|   28-May-17|          Spain|       PG-13|          4.6|  90 min|Directed by Devon...|Annabella Sciorra...|  English|Warwick, New York...|             null|\n",
      "|Tutak Tutak Tutiy...|      Comedy| Horror|    7-Oct-16|          India|        null|          5.4| 138 min|Directed by Vijay...|Tamannaah Bhatia|...|    Hindi|                null|             null|\n",
      "|The Strange House...|              Horror|   24-Jul-15|          China|        null|          5.3|  87 min|Directed by Danny...|Siu-Fai Cheung|Yi...| Mandarin|                null|             null|\n",
      "|Rise of the Anima...| Adventure| Comed...|    1-May-12|            USA|   NOT RATED|          3.6|  70 min|Directed by Chris...|Greg Hoople|Steph...|  English|Rochester, New Yo...|          $7,000 |\n",
      "|When Death Calls ...|              Horror|   28-Apr-12|            USA|        null|          5.9|  91 min|Directed by Jim H...|Suzi Lorraine|Tin...|  English|                null|             null|\n",
      "|Dark Medicine (2013)|      Horror| Sci-Fi|        2013|            USA|   NOT RATED|          2.8|  72 min|Directed by Tariq...|Ola Akinroluyo|By...|  English|Atlanta, Georgia,...|             null|\n",
      "|   Sexy Durga (2017)| Drama| Fantasy| ...|   21-Mar-17|            USA|        null|          5.9|  85 min|\"Directed by Sana...|Rajshri Deshpande...|Malayalam|Thiruvananthapura...|  INR 6,000,000  |\n",
      "|Circus of the Dea...| Action| Horror| ...|   13-Jan-17|            USA|        null|          6.0| 102 min|Directed by Billy...|Bill Oberst Jr.|P...|  English|  Odessa, Texas, USA|        $150,000 |\n",
      "|Zombie Resurrecti...|              Horror|   23-Mar-15|             UK|   NOT RATED|          2.7|  86 min|Directed by Jake ...|Eric Colvin|Jim S...|  English|Hampshire, Englan...|       £100,000  |\n",
      "|      Falling (2016)| Drama| Horror| R...|    8-Apr-16|            USA|        null|          7.1| 105 min|Directed by Ali A...|Josh Helman|Yael ...|  English|Utica, New York, USA|             null|\n",
      "| Bad Behavior (2015)|              Horror|   27-Oct-15|            USA|        null|         null|  64 min|Directed by Curti...|John Langston|Ame...|  English|Pelahatchie, Miss...|          $1,023 |\n",
      "|Devil's Tower (2014)|              Horror|   16-Sep-14|             UK|        null|          3.4|  82 min|Directed by Owen ...|Jason Mewes|Roxan...|  English|Derbyshire, Engla...|      $3,000,000 |\n",
      "+--------------------+--------------------+------------+---------------+------------+-------------+--------+--------------------+--------------------+---------+--------------------+-----------------+\n",
      "only showing top 20 rows\n",
      "\n"
     ]
    }
   ],
   "source": [
    "df = df.withColumnRenamed('Release Date','Release_Date') \\\n",
    "        .withColumnRenamed('Release Country','Release_Country') \\\n",
    "        .withColumnRenamed('Movie Rating','Movie_Rating') \\\n",
    "        .withColumnRenamed('Review Rating', 'Review_Rating') \\\n",
    "        .withColumnRenamed('Movie Run Time', 'Run_Time') \\\n",
    "        .withColumnRenamed('Filming Locations' , 'Filming_Locations')\n",
    "df.show(20)"
   ]
  },
  {
   "cell_type": "code",
   "execution_count": 39,
   "metadata": {},
   "outputs": [],
   "source": [
    "df = df.na.fill(value='Not_Rank', subset=['Movie_Rating'])\n",
    "df = df.na.fill(value='0', subset=['Review_Rating'])\n",
    "df = df.na.fill(value='unknown', subset=['Filming_Locations'])\n",
    "df = df.na.fill (value=0, subset=['Review_Rating'])\n",
    "df = df.na.fill (value='0', subset=['Run_Time'])\n",
    "df = df.na.fill (value='0', subset=['Budget'])"
   ]
  },
  {
   "cell_type": "code",
   "execution_count": 42,
   "metadata": {},
   "outputs": [
    {
     "name": "stdout",
     "output_type": "stream",
     "text": [
      "+--------------------+--------------------+------------+---------------+------------+-------------+--------+--------------------+--------------------+---------+--------------------+-----------------+\n",
      "|               Title|              Genres|Release_Date|Release_Country|Movie_Rating|Review_Rating|Run_Time|                Plot|                Cast| Language|   Filming_Locations|           Budget|\n",
      "+--------------------+--------------------+------------+---------------+------------+-------------+--------+--------------------+--------------------+---------+--------------------+-----------------+\n",
      "|          Gut (2012)| Drama| Horror| T...|   26-Oct-12|            USA|    Not_Rank|          3.9|  91 min|Directed by Elias...|Jason Vail|Nichol...|  English|       New York, USA|                0|\n",
      "|The Haunting of M...|              Horror|   13-Jan-17|            USA|    Not_Rank|          0.0|       0|Directed by Jake ...|Nicola Fiore|Brin...|  English|             unknown|         $30,000 |\n",
      "| Sleepwalking (2017)|              Horror|   21-Oct-17|         Canada|    Not_Rank|          0.0|       0|Directed by David...|Alysia Topol|Anth...|  English|Sudbury, Ontario,...|                0|\n",
      "|Treasure Chest of...| Comedy| Horror| ...|   23-Apr-13|            USA|   NOT RATED|          3.7|  82 min|Directed by M. Ke...|Veronica Ricci|Ni...|  English|Baltimore, Maryla...|                0|\n",
      "|      Infidus (2015)| Crime| Drama| Ho...|   10-Apr-15|            USA|    Not_Rank|          5.8|  80 min|Directed by Giuli...|Bonini Mino|Massi...|  Italian|             unknown|                0|\n",
      "|  In Extremis (2017)|    Horror| Thriller|        2017|             UK|    Not_Rank|          0.0|  93 min|Directed by Steve...|David O'Hara|Isab...|  English|             unknown|      $3,400,000 |\n",
      "|   Ghostlight (2013)| Drama| Horror| T...|    3-Jun-14|            USA|   NOT RATED|          5.1|  90 min|Directed by Jeff ...|Eden Campbell|Lis...|  English|             unknown|                0|\n",
      "|Parasyte: Part 2 ...| Action| Drama| H...|   25-Apr-15|          Japan|    Not_Rank|          6.5| 117 min|Directed by Takas...|Shôta Sometani|Er...| Japanese|        Tokyo, Japan|                0|\n",
      "|Stranger in the H...| Horror| Mystery|...|   28-May-17|          Spain|       PG-13|          4.6|  90 min|Directed by Devon...|Annabella Sciorra...|  English|Warwick, New York...|                0|\n",
      "|Tutak Tutak Tutiy...|      Comedy| Horror|    7-Oct-16|          India|    Not_Rank|          5.4| 138 min|Directed by Vijay...|Tamannaah Bhatia|...|    Hindi|             unknown|                0|\n",
      "|The Strange House...|              Horror|   24-Jul-15|          China|    Not_Rank|          5.3|  87 min|Directed by Danny...|Siu-Fai Cheung|Yi...| Mandarin|             unknown|                0|\n",
      "|Rise of the Anima...| Adventure| Comed...|    1-May-12|            USA|   NOT RATED|          3.6|  70 min|Directed by Chris...|Greg Hoople|Steph...|  English|Rochester, New Yo...|          $7,000 |\n",
      "|When Death Calls ...|              Horror|   28-Apr-12|            USA|    Not_Rank|          5.9|  91 min|Directed by Jim H...|Suzi Lorraine|Tin...|  English|             unknown|                0|\n",
      "|Dark Medicine (2013)|      Horror| Sci-Fi|        2013|            USA|   NOT RATED|          2.8|  72 min|Directed by Tariq...|Ola Akinroluyo|By...|  English|Atlanta, Georgia,...|                0|\n",
      "|   Sexy Durga (2017)| Drama| Fantasy| ...|   21-Mar-17|            USA|    Not_Rank|          5.9|  85 min|\"Directed by Sana...|Rajshri Deshpande...|Malayalam|Thiruvananthapura...|  INR 6,000,000  |\n",
      "|Circus of the Dea...| Action| Horror| ...|   13-Jan-17|            USA|    Not_Rank|          6.0| 102 min|Directed by Billy...|Bill Oberst Jr.|P...|  English|  Odessa, Texas, USA|        $150,000 |\n",
      "|Zombie Resurrecti...|              Horror|   23-Mar-15|             UK|   NOT RATED|          2.7|  86 min|Directed by Jake ...|Eric Colvin|Jim S...|  English|Hampshire, Englan...|       £100,000  |\n",
      "|      Falling (2016)| Drama| Horror| R...|    8-Apr-16|            USA|    Not_Rank|          7.1| 105 min|Directed by Ali A...|Josh Helman|Yael ...|  English|Utica, New York, USA|                0|\n",
      "| Bad Behavior (2015)|              Horror|   27-Oct-15|            USA|    Not_Rank|          0.0|  64 min|Directed by Curti...|John Langston|Ame...|  English|Pelahatchie, Miss...|          $1,023 |\n",
      "|Devil's Tower (2014)|              Horror|   16-Sep-14|             UK|    Not_Rank|          3.4|  82 min|Directed by Owen ...|Jason Mewes|Roxan...|  English|Derbyshire, Engla...|      $3,000,000 |\n",
      "+--------------------+--------------------+------------+---------------+------------+-------------+--------+--------------------+--------------------+---------+--------------------+-----------------+\n",
      "only showing top 20 rows\n",
      "\n"
     ]
    }
   ],
   "source": [
    "df.show(20)"
   ]
  },
  {
   "cell_type": "code",
   "execution_count": 99,
   "metadata": {},
   "outputs": [
    {
     "name": "stdout",
     "output_type": "stream",
     "text": [
      "+--------------------+--------------------+------------+---------------+------------+-------------+--------+--------------------+--------------------+---------+--------------------+-----------------+------------+\n",
      "|               Title|              Genres|Release_Date|Release_Country|Movie_Rating|Review_Rating|Run_Time|                Plot|                Cast| Language|   Filming_Locations|           Budget|Last_Ranking|\n",
      "+--------------------+--------------------+------------+---------------+------------+-------------+--------+--------------------+--------------------+---------+--------------------+-----------------+------------+\n",
      "|          Gut (2012)| Drama| Horror| T...|   26-Oct-12|            USA|    Not_Rank|          3.9|  91 min|Directed by Elias...|Jason Vail|Nichol...|  English|       New York, USA|                0|           4|\n",
      "|The Haunting of M...|              Horror|   13-Jan-17|            USA|    Not_Rank|          0.0|       0|Directed by Jake ...|Nicola Fiore|Brin...|  English|             unknown|         $30,000 |           0|\n",
      "| Sleepwalking (2017)|              Horror|   21-Oct-17|         Canada|    Not_Rank|          0.0|       0|Directed by David...|Alysia Topol|Anth...|  English|Sudbury, Ontario,...|                0|           0|\n",
      "|Treasure Chest of...| Comedy| Horror| ...|   23-Apr-13|            USA|   NOT RATED|          3.7|  82 min|Directed by M. Ke...|Veronica Ricci|Ni...|  English|Baltimore, Maryla...|                0|           4|\n",
      "|      Infidus (2015)| Crime| Drama| Ho...|   10-Apr-15|            USA|    Not_Rank|          5.8|  80 min|Directed by Giuli...|Bonini Mino|Massi...|  Italian|             unknown|                0|           6|\n",
      "|  In Extremis (2017)|    Horror| Thriller|        2017|             UK|    Not_Rank|          0.0|  93 min|Directed by Steve...|David O'Hara|Isab...|  English|             unknown|      $3,400,000 |           0|\n",
      "|   Ghostlight (2013)| Drama| Horror| T...|    3-Jun-14|            USA|   NOT RATED|          5.1|  90 min|Directed by Jeff ...|Eden Campbell|Lis...|  English|             unknown|                0|           6|\n",
      "|Parasyte: Part 2 ...| Action| Drama| H...|   25-Apr-15|          Japan|    Not_Rank|          6.5| 117 min|Directed by Takas...|Shôta Sometani|Er...| Japanese|        Tokyo, Japan|                0|           7|\n",
      "|Stranger in the H...| Horror| Mystery|...|   28-May-17|          Spain|       PG-13|          4.6|  90 min|Directed by Devon...|Annabella Sciorra...|  English|Warwick, New York...|                0|           5|\n",
      "|Tutak Tutak Tutiy...|      Comedy| Horror|    7-Oct-16|          India|    Not_Rank|          5.4| 138 min|Directed by Vijay...|Tamannaah Bhatia|...|    Hindi|             unknown|                0|           6|\n",
      "|The Strange House...|              Horror|   24-Jul-15|          China|    Not_Rank|          5.3|  87 min|Directed by Danny...|Siu-Fai Cheung|Yi...| Mandarin|             unknown|                0|           6|\n",
      "|Rise of the Anima...| Adventure| Comed...|    1-May-12|            USA|   NOT RATED|          3.6|  70 min|Directed by Chris...|Greg Hoople|Steph...|  English|Rochester, New Yo...|          $7,000 |           4|\n",
      "|When Death Calls ...|              Horror|   28-Apr-12|            USA|    Not_Rank|          5.9|  91 min|Directed by Jim H...|Suzi Lorraine|Tin...|  English|             unknown|                0|           6|\n",
      "|Dark Medicine (2013)|      Horror| Sci-Fi|        2013|            USA|   NOT RATED|          2.8|  72 min|Directed by Tariq...|Ola Akinroluyo|By...|  English|Atlanta, Georgia,...|                0|           3|\n",
      "|   Sexy Durga (2017)| Drama| Fantasy| ...|   21-Mar-17|            USA|    Not_Rank|          5.9|  85 min|\"Directed by Sana...|Rajshri Deshpande...|Malayalam|Thiruvananthapura...|  INR 6,000,000  |           6|\n",
      "|Circus of the Dea...| Action| Horror| ...|   13-Jan-17|            USA|    Not_Rank|          6.0| 102 min|Directed by Billy...|Bill Oberst Jr.|P...|  English|  Odessa, Texas, USA|        $150,000 |           6|\n",
      "|Zombie Resurrecti...|              Horror|   23-Mar-15|             UK|   NOT RATED|          2.7|  86 min|Directed by Jake ...|Eric Colvin|Jim S...|  English|Hampshire, Englan...|       £100,000  |           3|\n",
      "|      Falling (2016)| Drama| Horror| R...|    8-Apr-16|            USA|    Not_Rank|          7.1| 105 min|Directed by Ali A...|Josh Helman|Yael ...|  English|Utica, New York, USA|                0|           8|\n",
      "| Bad Behavior (2015)|              Horror|   27-Oct-15|            USA|    Not_Rank|          0.0|  64 min|Directed by Curti...|John Langston|Ame...|  English|Pelahatchie, Miss...|          $1,023 |           0|\n",
      "|Devil's Tower (2014)|              Horror|   16-Sep-14|             UK|    Not_Rank|          3.4|  82 min|Directed by Owen ...|Jason Mewes|Roxan...|  English|Derbyshire, Engla...|      $3,000,000 |           4|\n",
      "+--------------------+--------------------+------------+---------------+------------+-------------+--------+--------------------+--------------------+---------+--------------------+-----------------+------------+\n",
      "only showing top 20 rows\n",
      "\n"
     ]
    }
   ],
   "source": [
    "df2 = df.select(\"*\", ceil(col('Review_Rating')).alias('Last_Ranking'))\n",
    "df2.show(20)\n",
    "\n"
   ]
  },
  {
   "cell_type": "code",
   "execution_count": 112,
   "metadata": {},
   "outputs": [
    {
     "name": "stdout",
     "output_type": "stream",
     "text": [
      "+--------------------+--------------------+------------+---------------+------------+-------------+--------+--------------------+--------------------+---------+--------------------+-----------------+------------+--------------+-------+\n",
      "|               Title|              Genres|Release_Date|Release_Country|Movie_Rating|Review_Rating|Run_Time|                Plot|                Cast| Language|   Filming_Locations|           Budget|Last_Ranking|Languages_list|leng_15|\n",
      "+--------------------+--------------------+------------+---------------+------------+-------------+--------+--------------------+--------------------+---------+--------------------+-----------------+------------+--------------+-------+\n",
      "|          Gut (2012)| Drama| Horror| T...|   26-Oct-12|            USA|    Not_Rank|          3.9|  91 min|Directed by Elias...|Jason Vail|Nichol...|  English|       New York, USA|                0|           4|     [English]|   null|\n",
      "|The Haunting of M...|              Horror|   13-Jan-17|            USA|    Not_Rank|          0.0|       0|Directed by Jake ...|Nicola Fiore|Brin...|  English|             unknown|         $30,000 |           0|     [English]|   null|\n",
      "| Sleepwalking (2017)|              Horror|   21-Oct-17|         Canada|    Not_Rank|          0.0|       0|Directed by David...|Alysia Topol|Anth...|  English|Sudbury, Ontario,...|                0|           0|     [English]|   null|\n",
      "|Treasure Chest of...| Comedy| Horror| ...|   23-Apr-13|            USA|   NOT RATED|          3.7|  82 min|Directed by M. Ke...|Veronica Ricci|Ni...|  English|Baltimore, Maryla...|                0|           4|     [English]|   null|\n",
      "|      Infidus (2015)| Crime| Drama| Ho...|   10-Apr-15|            USA|    Not_Rank|          5.8|  80 min|Directed by Giuli...|Bonini Mino|Massi...|  Italian|             unknown|                0|           6|     [Italian]|   null|\n",
      "|  In Extremis (2017)|    Horror| Thriller|        2017|             UK|    Not_Rank|          0.0|  93 min|Directed by Steve...|David O'Hara|Isab...|  English|             unknown|      $3,400,000 |           0|     [English]|   null|\n",
      "|   Ghostlight (2013)| Drama| Horror| T...|    3-Jun-14|            USA|   NOT RATED|          5.1|  90 min|Directed by Jeff ...|Eden Campbell|Lis...|  English|             unknown|                0|           6|     [English]|   null|\n",
      "|Parasyte: Part 2 ...| Action| Drama| H...|   25-Apr-15|          Japan|    Not_Rank|          6.5| 117 min|Directed by Takas...|Shôta Sometani|Er...| Japanese|        Tokyo, Japan|                0|           7|    [Japanese]|   null|\n",
      "|Stranger in the H...| Horror| Mystery|...|   28-May-17|          Spain|       PG-13|          4.6|  90 min|Directed by Devon...|Annabella Sciorra...|  English|Warwick, New York...|                0|           5|     [English]|   null|\n",
      "|Tutak Tutak Tutiy...|      Comedy| Horror|    7-Oct-16|          India|    Not_Rank|          5.4| 138 min|Directed by Vijay...|Tamannaah Bhatia|...|    Hindi|             unknown|                0|           6|       [Hindi]|   null|\n",
      "|The Strange House...|              Horror|   24-Jul-15|          China|    Not_Rank|          5.3|  87 min|Directed by Danny...|Siu-Fai Cheung|Yi...| Mandarin|             unknown|                0|           6|    [Mandarin]|   null|\n",
      "|Rise of the Anima...| Adventure| Comed...|    1-May-12|            USA|   NOT RATED|          3.6|  70 min|Directed by Chris...|Greg Hoople|Steph...|  English|Rochester, New Yo...|          $7,000 |           4|     [English]|   null|\n",
      "|When Death Calls ...|              Horror|   28-Apr-12|            USA|    Not_Rank|          5.9|  91 min|Directed by Jim H...|Suzi Lorraine|Tin...|  English|             unknown|                0|           6|     [English]|   null|\n",
      "|Dark Medicine (2013)|      Horror| Sci-Fi|        2013|            USA|   NOT RATED|          2.8|  72 min|Directed by Tariq...|Ola Akinroluyo|By...|  English|Atlanta, Georgia,...|                0|           3|     [English]|   null|\n",
      "|   Sexy Durga (2017)| Drama| Fantasy| ...|   21-Mar-17|            USA|    Not_Rank|          5.9|  85 min|\"Directed by Sana...|Rajshri Deshpande...|Malayalam|Thiruvananthapura...|  INR 6,000,000  |           6|   [Malayalam]|   null|\n",
      "|Circus of the Dea...| Action| Horror| ...|   13-Jan-17|            USA|    Not_Rank|          6.0| 102 min|Directed by Billy...|Bill Oberst Jr.|P...|  English|  Odessa, Texas, USA|        $150,000 |           6|     [English]|   null|\n",
      "|Zombie Resurrecti...|              Horror|   23-Mar-15|             UK|   NOT RATED|          2.7|  86 min|Directed by Jake ...|Eric Colvin|Jim S...|  English|Hampshire, Englan...|       £100,000  |           3|     [English]|   null|\n",
      "|      Falling (2016)| Drama| Horror| R...|    8-Apr-16|            USA|    Not_Rank|          7.1| 105 min|Directed by Ali A...|Josh Helman|Yael ...|  English|Utica, New York, USA|                0|           8|     [English]|   null|\n",
      "| Bad Behavior (2015)|              Horror|   27-Oct-15|            USA|    Not_Rank|          0.0|  64 min|Directed by Curti...|John Langston|Ame...|  English|Pelahatchie, Miss...|          $1,023 |           0|     [English]|   null|\n",
      "|Devil's Tower (2014)|              Horror|   16-Sep-14|             UK|    Not_Rank|          3.4|  82 min|Directed by Owen ...|Jason Mewes|Roxan...|  English|Derbyshire, Engla...|      $3,000,000 |           4|     [English]|   null|\n",
      "+--------------------+--------------------+------------+---------------+------------+-------------+--------+--------------------+--------------------+---------+--------------------+-----------------+------------+--------------+-------+\n",
      "only showing top 20 rows\n",
      "\n"
     ]
    }
   ],
   "source": [
    "df2 = df2.withColumn('Languages_list',split(col('Language'),'\\\\|'))\n",
    "leng_list = df2.selectExpr('max(size(Languages_list))').collect()[0][0]\n",
    "for i in range(leng_list):\n",
    "    df3 = df2.withColumn(f'leng_{i+1}', col('Languages_list')[i])\n",
    "df3.show()\n",
    "#df3.printSchema()\n",
    "\n",
    "\n",
    "\n"
   ]
  },
  {
   "cell_type": "code",
   "execution_count": 78,
   "metadata": {},
   "outputs": [
    {
     "data": {
      "text/html": [
       "<div>\n",
       "<style scoped>\n",
       "    .dataframe tbody tr th:only-of-type {\n",
       "        vertical-align: middle;\n",
       "    }\n",
       "\n",
       "    .dataframe tbody tr th {\n",
       "        vertical-align: top;\n",
       "    }\n",
       "\n",
       "    .dataframe thead th {\n",
       "        text-align: right;\n",
       "    }\n",
       "</style>\n",
       "<table border=\"1\" class=\"dataframe\">\n",
       "  <thead>\n",
       "    <tr style=\"text-align: right;\">\n",
       "      <th></th>\n",
       "      <th>languageArray</th>\n",
       "    </tr>\n",
       "  </thead>\n",
       "  <tbody>\n",
       "    <tr>\n",
       "      <th>0</th>\n",
       "      <td>[E, n, g, l, i, s, h, ]</td>\n",
       "    </tr>\n",
       "    <tr>\n",
       "      <th>1</th>\n",
       "      <td>[E, n, g, l, i, s, h, ]</td>\n",
       "    </tr>\n",
       "    <tr>\n",
       "      <th>2</th>\n",
       "      <td>[E, n, g, l, i, s, h, ]</td>\n",
       "    </tr>\n",
       "    <tr>\n",
       "      <th>3</th>\n",
       "      <td>[E, n, g, l, i, s, h, ]</td>\n",
       "    </tr>\n",
       "    <tr>\n",
       "      <th>4</th>\n",
       "      <td>[I, t, a, l, i, a, n, ]</td>\n",
       "    </tr>\n",
       "    <tr>\n",
       "      <th>...</th>\n",
       "      <td>...</td>\n",
       "    </tr>\n",
       "    <tr>\n",
       "      <th>3323</th>\n",
       "      <td>[E, n, g, l, i, s, h, ]</td>\n",
       "    </tr>\n",
       "    <tr>\n",
       "      <th>3324</th>\n",
       "      <td>[E, n, g, l, i, s, h, ]</td>\n",
       "    </tr>\n",
       "    <tr>\n",
       "      <th>3325</th>\n",
       "      <td>[E, n, g, l, i, s, h, ]</td>\n",
       "    </tr>\n",
       "    <tr>\n",
       "      <th>3326</th>\n",
       "      <td>[E, n, g, l, i, s, h, ]</td>\n",
       "    </tr>\n",
       "    <tr>\n",
       "      <th>3327</th>\n",
       "      <td>[E, n, g, l, i, s, h, ]</td>\n",
       "    </tr>\n",
       "  </tbody>\n",
       "</table>\n",
       "<p>3328 rows × 1 columns</p>\n",
       "</div>"
      ],
      "text/plain": [
       "                languageArray\n",
       "0     [E, n, g, l, i, s, h, ]\n",
       "1     [E, n, g, l, i, s, h, ]\n",
       "2     [E, n, g, l, i, s, h, ]\n",
       "3     [E, n, g, l, i, s, h, ]\n",
       "4     [I, t, a, l, i, a, n, ]\n",
       "...                       ...\n",
       "3323  [E, n, g, l, i, s, h, ]\n",
       "3324  [E, n, g, l, i, s, h, ]\n",
       "3325  [E, n, g, l, i, s, h, ]\n",
       "3326  [E, n, g, l, i, s, h, ]\n",
       "3327  [E, n, g, l, i, s, h, ]\n",
       "\n",
       "[3328 rows x 1 columns]"
      ]
     },
     "metadata": {},
     "output_type": "display_data"
    }
   ],
   "source": [
    "display(pdf)"
   ]
  },
  {
   "cell_type": "code",
   "execution_count": null,
   "metadata": {},
   "outputs": [],
   "source": []
  },
  {
   "cell_type": "code",
   "execution_count": 61,
   "metadata": {},
   "outputs": [
    {
     "ename": "KeyError",
     "evalue": "'Last_ranking'",
     "output_type": "error",
     "traceback": [
      "\u001b[0;31m---------------------------------------------------------------------------\u001b[0m",
      "\u001b[0;31mKeyError\u001b[0m                                  Traceback (most recent call last)",
      "File \u001b[0;32m~/opt/anaconda3/lib/python3.9/site-packages/pandas/core/indexes/base.py:3621\u001b[0m, in \u001b[0;36mIndex.get_loc\u001b[0;34m(self, key, method, tolerance)\u001b[0m\n\u001b[1;32m   3620\u001b[0m \u001b[38;5;28;01mtry\u001b[39;00m:\n\u001b[0;32m-> 3621\u001b[0m     \u001b[38;5;28;01mreturn\u001b[39;00m \u001b[38;5;28;43mself\u001b[39;49m\u001b[38;5;241;43m.\u001b[39;49m\u001b[43m_engine\u001b[49m\u001b[38;5;241;43m.\u001b[39;49m\u001b[43mget_loc\u001b[49m\u001b[43m(\u001b[49m\u001b[43mcasted_key\u001b[49m\u001b[43m)\u001b[49m\n\u001b[1;32m   3622\u001b[0m \u001b[38;5;28;01mexcept\u001b[39;00m \u001b[38;5;167;01mKeyError\u001b[39;00m \u001b[38;5;28;01mas\u001b[39;00m err:\n",
      "File \u001b[0;32m~/opt/anaconda3/lib/python3.9/site-packages/pandas/_libs/index.pyx:136\u001b[0m, in \u001b[0;36mpandas._libs.index.IndexEngine.get_loc\u001b[0;34m()\u001b[0m\n",
      "File \u001b[0;32m~/opt/anaconda3/lib/python3.9/site-packages/pandas/_libs/index.pyx:163\u001b[0m, in \u001b[0;36mpandas._libs.index.IndexEngine.get_loc\u001b[0;34m()\u001b[0m\n",
      "File \u001b[0;32mpandas/_libs/hashtable_class_helper.pxi:5198\u001b[0m, in \u001b[0;36mpandas._libs.hashtable.PyObjectHashTable.get_item\u001b[0;34m()\u001b[0m\n",
      "File \u001b[0;32mpandas/_libs/hashtable_class_helper.pxi:5206\u001b[0m, in \u001b[0;36mpandas._libs.hashtable.PyObjectHashTable.get_item\u001b[0;34m()\u001b[0m\n",
      "\u001b[0;31mKeyError\u001b[0m: 'Last_ranking'",
      "\nThe above exception was the direct cause of the following exception:\n",
      "\u001b[0;31mKeyError\u001b[0m                                  Traceback (most recent call last)",
      "Input \u001b[0;32mIn [61]\u001b[0m, in \u001b[0;36m<cell line: 2>\u001b[0;34m()\u001b[0m\n\u001b[1;32m      1\u001b[0m pdf \u001b[38;5;241m=\u001b[39m df2\u001b[38;5;241m.\u001b[39mtoPandas()\n\u001b[0;32m----> 2\u001b[0m plt\u001b[38;5;241m.\u001b[39mbar(pdf[\u001b[38;5;124m'\u001b[39m\u001b[38;5;124mLanguage\u001b[39m\u001b[38;5;124m'\u001b[39m], \u001b[43mpdf\u001b[49m\u001b[43m[\u001b[49m\u001b[38;5;124;43m'\u001b[39;49m\u001b[38;5;124;43mLast_ranking\u001b[39;49m\u001b[38;5;124;43m'\u001b[39;49m\u001b[43m]\u001b[49m)\n\u001b[1;32m      3\u001b[0m plt\u001b[38;5;241m.\u001b[39mxlabel \u001b[38;5;241m=\u001b[39m \u001b[38;5;124m'\u001b[39m\u001b[38;5;124mLenguages\u001b[39m\u001b[38;5;124m'\u001b[39m\n\u001b[1;32m      4\u001b[0m plt\u001b[38;5;241m.\u001b[39mylab \u001b[38;5;241m=\u001b[39m \u001b[38;5;124m'\u001b[39m\u001b[38;5;124mRanking\u001b[39m\u001b[38;5;124m'\u001b[39m\n",
      "File \u001b[0;32m~/opt/anaconda3/lib/python3.9/site-packages/pandas/core/frame.py:3505\u001b[0m, in \u001b[0;36mDataFrame.__getitem__\u001b[0;34m(self, key)\u001b[0m\n\u001b[1;32m   3503\u001b[0m \u001b[38;5;28;01mif\u001b[39;00m \u001b[38;5;28mself\u001b[39m\u001b[38;5;241m.\u001b[39mcolumns\u001b[38;5;241m.\u001b[39mnlevels \u001b[38;5;241m>\u001b[39m \u001b[38;5;241m1\u001b[39m:\n\u001b[1;32m   3504\u001b[0m     \u001b[38;5;28;01mreturn\u001b[39;00m \u001b[38;5;28mself\u001b[39m\u001b[38;5;241m.\u001b[39m_getitem_multilevel(key)\n\u001b[0;32m-> 3505\u001b[0m indexer \u001b[38;5;241m=\u001b[39m \u001b[38;5;28;43mself\u001b[39;49m\u001b[38;5;241;43m.\u001b[39;49m\u001b[43mcolumns\u001b[49m\u001b[38;5;241;43m.\u001b[39;49m\u001b[43mget_loc\u001b[49m\u001b[43m(\u001b[49m\u001b[43mkey\u001b[49m\u001b[43m)\u001b[49m\n\u001b[1;32m   3506\u001b[0m \u001b[38;5;28;01mif\u001b[39;00m is_integer(indexer):\n\u001b[1;32m   3507\u001b[0m     indexer \u001b[38;5;241m=\u001b[39m [indexer]\n",
      "File \u001b[0;32m~/opt/anaconda3/lib/python3.9/site-packages/pandas/core/indexes/base.py:3623\u001b[0m, in \u001b[0;36mIndex.get_loc\u001b[0;34m(self, key, method, tolerance)\u001b[0m\n\u001b[1;32m   3621\u001b[0m     \u001b[38;5;28;01mreturn\u001b[39;00m \u001b[38;5;28mself\u001b[39m\u001b[38;5;241m.\u001b[39m_engine\u001b[38;5;241m.\u001b[39mget_loc(casted_key)\n\u001b[1;32m   3622\u001b[0m \u001b[38;5;28;01mexcept\u001b[39;00m \u001b[38;5;167;01mKeyError\u001b[39;00m \u001b[38;5;28;01mas\u001b[39;00m err:\n\u001b[0;32m-> 3623\u001b[0m     \u001b[38;5;28;01mraise\u001b[39;00m \u001b[38;5;167;01mKeyError\u001b[39;00m(key) \u001b[38;5;28;01mfrom\u001b[39;00m \u001b[38;5;21;01merr\u001b[39;00m\n\u001b[1;32m   3624\u001b[0m \u001b[38;5;28;01mexcept\u001b[39;00m \u001b[38;5;167;01mTypeError\u001b[39;00m:\n\u001b[1;32m   3625\u001b[0m     \u001b[38;5;66;03m# If we have a listlike key, _check_indexing_error will raise\u001b[39;00m\n\u001b[1;32m   3626\u001b[0m     \u001b[38;5;66;03m#  InvalidIndexError. Otherwise we fall through and re-raise\u001b[39;00m\n\u001b[1;32m   3627\u001b[0m     \u001b[38;5;66;03m#  the TypeError.\u001b[39;00m\n\u001b[1;32m   3628\u001b[0m     \u001b[38;5;28mself\u001b[39m\u001b[38;5;241m.\u001b[39m_check_indexing_error(key)\n",
      "\u001b[0;31mKeyError\u001b[0m: 'Last_ranking'"
     ]
    }
   ],
   "source": [
    "pdf = df2.toPandas()\n",
    "plt.bar(pdf['Language'], pdf['Last_ranking'])\n",
    "plt.xlabel = 'Lenguages'\n",
    "plt.ylab = 'Ranking'\n",
    "plt.title('Grafico Horror Movies')\n",
    "plt.show()\n",
    "\n"
   ]
  }
 ],
 "metadata": {
  "kernelspec": {
   "display_name": "Python 3",
   "language": "python",
   "name": "python3"
  },
  "language_info": {
   "codemirror_mode": {
    "name": "ipython",
    "version": 3
   },
   "file_extension": ".py",
   "mimetype": "text/x-python",
   "name": "python",
   "nbconvert_exporter": "python",
   "pygments_lexer": "ipython3",
   "version": "3.9.12"
  }
 },
 "nbformat": 4,
 "nbformat_minor": 2
}
